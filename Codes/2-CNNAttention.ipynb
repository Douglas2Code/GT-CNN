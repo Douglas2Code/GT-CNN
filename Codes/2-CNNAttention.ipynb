{
 "cells": [
  {
   "cell_type": "markdown",
   "metadata": {},
   "source": [
    "# CNN Attention Model"
   ]
  },
  {
   "cell_type": "markdown",
   "metadata": {},
   "source": [
    "## 1. Imports, functions and constants"
   ]
  },
  {
   "cell_type": "code",
   "execution_count": 1,
   "metadata": {},
   "outputs": [],
   "source": [
    "from CNN import *\n",
    "from GradCAMUtils import *\n",
    "from Utils_train import *\n",
    "\n",
    "import numpy as np\n",
    "import pandas as pd\n",
    "\n",
    "import os"
   ]
  },
  {
   "cell_type": "code",
   "execution_count": 2,
   "metadata": {},
   "outputs": [],
   "source": [
    "\"\"\"Constants\"\"\"\n",
    "# sequence length indicate the maximum length for all of the sequnence 626/798\n",
    "SEQUENCE_LENGTH = 798\n",
    "\n",
    "BATCH_SIZE = 8\n",
    "\n",
    "vocab = {'C': [0,0,1], 'H': [0,1,0], 'E': [1,0,0], '-':[0,0,0]}\n",
    "\n",
    "# Transform the labels from String to Integer via LabelEncoder\n",
    "le_fold = preprocessing.LabelEncoder()\n",
    "le_fam = preprocessing.LabelEncoder()\n",
    "\n",
    "os.environ[\"CUDA_VISIBLE_DEVICES\"] = \"0\"\n",
    "\n",
    "cuda_gpu = torch.cuda.is_available()   #判断GPU是否存在可用\n",
    "\n",
    "np.random.seed(2020)\n",
    "torch.manual_seed(2020)\n",
    "torch.cuda.manual_seed_all(2020)\n",
    "torch.backends.cudnn.deterministic = True #make sure same results"
   ]
  },
  {
   "cell_type": "markdown",
   "metadata": {},
   "source": [
    "## 2. Read datasets"
   ]
  },
  {
   "cell_type": "code",
   "execution_count": 3,
   "metadata": {},
   "outputs": [],
   "source": [
    "# load all dataset\n",
    "train_df = pd.read_csv(\"../Datasets/Training_data/gt_training.CNN/train_df.csv\")\n",
    "test_df = pd.read_csv(\"../Datasets/Training_data/gt_training.CNN/test_df.csv\")\n",
    "val_df = pd.read_csv(\"../Datasets/Training_data/gt_training.CNN/val_df.csv\")"
   ]
  },
  {
   "cell_type": "code",
   "execution_count": 4,
   "metadata": {},
   "outputs": [
    {
     "data": {
      "text/plain": [
       "A       60940\n",
       "B       52697\n",
       "C       19459\n",
       "lyso     4932\n",
       "u        3956\n",
       "Name: fold, dtype: int64"
      ]
     },
     "execution_count": 4,
     "metadata": {},
     "output_type": "execute_result"
    }
   ],
   "source": [
    "train_df.fold.value_counts()"
   ]
  },
  {
   "cell_type": "code",
   "execution_count": 5,
   "metadata": {},
   "outputs": [],
   "source": [
    "#dump into MultiOutput Dataset\n",
    "Train_ds, Train_dl = Dataset_LoaderTwo(train_df, le_fam, le_fold, vocab, BATCH_SIZE=BATCH_SIZE, cuda = cuda_gpu)\n",
    "\n",
    "Test_ds, Test_dl = Dataset_LoaderTwo(test_df, le_fam, le_fold, vocab, BATCH_SIZE=BATCH_SIZE, cuda = cuda_gpu)\n",
    "\n",
    "Val_ds, Val_dl = Dataset_LoaderTwo(val_df, le_fam, le_fold, vocab, BATCH_SIZE=BATCH_SIZE, cuda = cuda_gpu)\n",
    "\n",
    "fold = train_df['fold'].unique()\n",
    "family = train_df['family'].unique()"
   ]
  },
  {
   "cell_type": "code",
   "execution_count": null,
   "metadata": {},
   "outputs": [],
   "source": [
    "# training the model\n",
    "\n",
    "model = CNN_Attention(Fold=len(fold), Fam=len(family), Prob=0.5).cuda()\n",
    "\n",
    "optimizer = optim.Adam(model.parameters(), lr=1e-4, weight_decay=1e-5)\n",
    "criterion = nn.CrossEntropyLoss().cuda()\n",
    "cnn_model = Fit(1, model, criterion, optimizer, Train_dl, Val_dl, patience=2, e=0.50)"
   ]
  },
  {
   "cell_type": "code",
   "execution_count": null,
   "metadata": {},
   "outputs": [],
   "source": [
    "# pickle.dump(cnn_model,open('128_alldata_gtu.pickle','wb'))"
   ]
  }
 ],
 "metadata": {
  "kernelspec": {
   "display_name": "Python 3",
   "language": "python",
   "name": "python3"
  },
  "language_info": {
   "codemirror_mode": {
    "name": "ipython",
    "version": 3
   },
   "file_extension": ".py",
   "mimetype": "text/x-python",
   "name": "python",
   "nbconvert_exporter": "python",
   "pygments_lexer": "ipython3",
   "version": "3.7.10"
  }
 },
 "nbformat": 4,
 "nbformat_minor": 5
}
