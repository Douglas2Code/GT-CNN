{
 "cells": [
  {
   "cell_type": "code",
   "execution_count": 1,
   "id": "encouraging-writing",
   "metadata": {},
   "outputs": [],
   "source": [
    "import torch\n",
    "import torch.nn as nn\n",
    "import torch.nn.functional as F\n",
    "import torch.optim as optim\n",
    "from torch.nn import init\n",
    "\n",
    "from CNN import *\n",
    "from GradCAMUtils import *\n",
    "from Utils import *\n",
    "\n",
    "import numpy as np\n",
    "import pandas as pd\n",
    "import seaborn as sns\n",
    "\n",
    "import os\n",
    "\n",
    "from fastai import *\n",
    "from fastai.text import *\n",
    "from fastai.vision import *\n",
    "from fastai.imports import *\n",
    "\n",
    "from sklearn import preprocessing\n",
    "from sklearn.preprocessing import OneHotEncoder\n",
    "from sklearn import metrics\n",
    "from sklearn.metrics import classification_report, confusion_matrix\n",
    "from sklearn.manifold import TSNE\n",
    "from sklearn.decomposition import PCA\n",
    "from sklearn.model_selection import train_test_split\n",
    "import umap\n",
    "\n",
    "from matplotlib.widgets import Button\n",
    "from matplotlib.widgets import TextBox\n",
    "from matplotlib.ticker import MultipleLocator\n",
    "import matplotlib.pyplot as plt"
   ]
  },
  {
   "cell_type": "code",
   "execution_count": 2,
   "id": "filled-southeast",
   "metadata": {},
   "outputs": [],
   "source": [
    "\"\"\"Constants\"\"\"\n",
    "# sequence length indicate the maximum length for all of the sequnence 626/798\n",
    "SEQUENCE_LENGTH = 798\n",
    "\n",
    "BATCH_SIZE = 8\n",
    "\n",
    "vocab = {'C': [0,0,1], 'H': [0,1,0], 'E': [1,0,0], '-':[0,0,0]}\n",
    "\n",
    "sns.set(rc={'figure.figsize':(15,15)})\n",
    "\n",
    "model_path = Path(\"./Models/\")\n",
    "path = Path(\"./Datasets/\")\n",
    "\n",
    "#显示所有列\n",
    "pd.set_option('display.max_columns', None)\n",
    "#显示所有行\n",
    "pd.set_option('display.max_rows', None)\n",
    "\n",
    "# Transform the labels from String to Integer via LabelEncoder\n",
    "le_fold = preprocessing.LabelEncoder()\n",
    "le_fam = preprocessing.LabelEncoder()\n",
    "\n",
    "# torch.cuda.set_device()\n",
    "os.environ[\"CUDA_VISIBLE_DEVICES\"] = \"1\"\n",
    "\n",
    "cuda_gpu = torch.cuda.is_available()   #判断GPU是否存在可用\n",
    "\n",
    "np.random.seed(2020)\n",
    "torch.manual_seed(2020)\n",
    "torch.cuda.manual_seed_all(2020)\n",
    "torch.backends.cudnn.deterministic = True #make sure same results"
   ]
  },
  {
   "cell_type": "code",
   "execution_count": 3,
   "id": "built-oakland",
   "metadata": {},
   "outputs": [
    {
     "name": "stdout",
     "output_type": "stream",
     "text": [
      "3956 220 220\n",
      "4932 275 275\n",
      "1799 100 101\n",
      "1799 100 101\n"
     ]
    }
   ],
   "source": [
    "# load all dataset\n",
    "\n",
    "df_gtu = pd.read_csv(\"../Datasets/Training_data/GTU_GTD.csv\")\n",
    "df_gtlyso = pd.read_csv(\"../Datasets/Training_data/GTLyso_train.csv\")\n",
    "df_gt2 = pd.read_csv(\"../Datasets/Training_data/GTA2.csv\")\n",
    "df_gt4 = pd.read_csv(\"../Datasets/Training_data/GTB4.csv\")\n",
    "train_df = pd.read_csv(\"../Datasets/Training_data/train2k.csv\")\n",
    "test_df = pd.read_csv(\"../Datasets/Training_data/test2k.csv\")\n",
    "val_df = pd.read_csv(\"../Datasets/Training_data/val2k.csv\")\n",
    "\n",
    "train_df_gtu, test_df_gtu, val_df_gtu = Train_Test_Val_split(df_gtu, strantify_type=\"family\", split_rate=0.05)\n",
    "train_df_gtlyso, test_df_gtlyso, val_df_gtlyso = Train_Test_Val_split(df_gtlyso, strantify_type=\"family\", split_rate=0.05)\n",
    "train_df_gt2, test_df_gt2, val_df_gt2 = Train_Test_Val_split(df_gt2, strantify_type=\"family\", split_rate=0.05)\n",
    "train_df_gt4, test_df_gt4, val_df_gt4 = Train_Test_Val_split(df_gt4, strantify_type=\"family\", split_rate=0.05)"
   ]
  },
  {
   "cell_type": "code",
   "execution_count": 4,
   "id": "central-morris",
   "metadata": {},
   "outputs": [],
   "source": [
    "train_df = pd.concat([train_df, train_df_gtu, train_df_gt2, train_df_gt4, train_df_gtlyso])\n",
    "test_df = pd.concat([test_df, test_df_gtu, test_df_gt2, test_df_gt4, test_df_gtlyso])\n",
    "val_df = pd.concat([val_df, val_df_gtu, val_df_gt2, val_df_gt4, val_df_gtlyso])"
   ]
  },
  {
   "cell_type": "code",
   "execution_count": 5,
   "id": "natural-shape",
   "metadata": {},
   "outputs": [],
   "source": [
    "#dump into MultiOutput Dataset\n",
    "Train_ds, Train_dl = Dataset_Loader(train_df, le_fam, le_fold, vocab, BATCH_SIZE=BATCH_SIZE, cuda = cuda_gpu)\n",
    "\n",
    "Test_ds, Test_dl = Dataset_Loader(test_df, le_fam, le_fold, vocab, BATCH_SIZE=BATCH_SIZE, cuda = cuda_gpu)\n",
    "\n",
    "Val_ds, Val_dl = Dataset_Loader(val_df, le_fam, le_fold, vocab, BATCH_SIZE=BATCH_SIZE, cuda = cuda_gpu)\n",
    "\n",
    "fold = train_df['fold'].unique()\n",
    "family = train_df['family'].unique()"
   ]
  },
  {
   "cell_type": "code",
   "execution_count": 7,
   "id": "desperate-aside",
   "metadata": {},
   "outputs": [],
   "source": [
    "# training the model\n",
    "\n",
    "model = CNN_Attention(Fold=len(fold), Fam=len(family), Prob=0.5).cuda()\n",
    "\n",
    "optimizer = optim.Adam(model.parameters(), lr=1e-4, weight_decay=1e-5)\n",
    "criterion = nn.CrossEntropyLoss().cuda()\n",
    "cnn_model = Fit(50, model, criterion, optimizer, Train_dl, Val_dl, patience=2, e=0.50)"
   ]
  },
  {
   "cell_type": "code",
   "execution_count": null,
   "id": "julian-trainer",
   "metadata": {},
   "outputs": [],
   "source": [
    "# pickle.dump(cnn_model,open('128_alldata_gtu.pickle','wb'))"
   ]
  },
  {
   "cell_type": "code",
   "execution_count": null,
   "id": "regional-california",
   "metadata": {},
   "outputs": [],
   "source": []
  },
  {
   "cell_type": "code",
   "execution_count": null,
   "id": "arranged-worthy",
   "metadata": {},
   "outputs": [],
   "source": []
  }
 ],
 "metadata": {
  "kernelspec": {
   "display_name": "Python 3",
   "language": "python",
   "name": "python3"
  },
  "language_info": {
   "codemirror_mode": {
    "name": "ipython",
    "version": 3
   },
   "file_extension": ".py",
   "mimetype": "text/x-python",
   "name": "python",
   "nbconvert_exporter": "python",
   "pygments_lexer": "ipython3",
   "version": "3.7.10"
  }
 },
 "nbformat": 4,
 "nbformat_minor": 5
}
